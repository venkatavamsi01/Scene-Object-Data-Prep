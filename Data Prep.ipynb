{
  "cells": [
    {
      "cell_type": "code",
      "execution_count": 8,
      "metadata": {
        "id": "n5BJ8B0hMaHy"
      },
      "outputs": [],
      "source": [
        "# System libs\n",
        "import os, csv, torch, scipy.io, PIL.Image, torchvision.transforms\n",
        "# Our libs\n",
        "from mit_semseg.models import ModelBuilder, SegmentationModule\n",
        "from mit_semseg.utils import colorEncode\n",
        "import os\n",
        "import pandas as pd\n",
        "import numpy as np\n",
        "from PIL import Image"
      ]
    },
    {
      "cell_type": "code",
      "execution_count": 7,
      "metadata": {
        "id": "yV5V0NmDnaM8"
      },
      "outputs": [],
      "source": [
        "colors = scipy.io.loadmat('color150.mat')['colors']\n",
        "names = {}\n",
        "with open('object150_info.csv') as f:\n",
        "    reader = csv.reader(f)\n",
        "    next(reader)\n",
        "    for row in reader:\n",
        "        names[int(row[0])] = row[5].split(\";\")[0]"
      ]
    },
    {
      "cell_type": "code",
      "execution_count": 12,
      "metadata": {},
      "outputs": [
        {
          "name": "stdout",
          "output_type": "stream",
          "text": [
            "Room: bathroom, Number of Images: 721\n",
            "Room: bedroom, Number of Images: 1486\n",
            "Room: dining_room, Number of Images: 449\n",
            "Room: kitchen, Number of Images: 716\n",
            "Room: living_room, Number of Images: 777\n"
          ]
        }
      ],
      "source": [
        "import os\n",
        "\n",
        "# Define the main directory containing the subdirectories (rooms)\n",
        "main_dir = 'masks'\n",
        "\n",
        "# Get a list of all subdirectories (rooms) within the main directory\n",
        "room_names = os.listdir(main_dir)\n",
        "\n",
        "# Create a dictionary to store the counts for each room\n",
        "room_image_counts = {}\n",
        "\n",
        "# Iterate through each room directory and count the images\n",
        "for room_name in room_names:\n",
        "    room_dir = os.path.join(main_dir, room_name)\n",
        "\n",
        "    if os.path.isdir(room_dir):\n",
        "        # List all files in the room directory with specific image extensions\n",
        "        image_files = [f for f in os.listdir(room_dir) if f.lower().endswith(('.png', '.jpg', '.jpeg'))]\n",
        "\n",
        "        # Count the number of image files\n",
        "        image_count = len(image_files)\n",
        "\n",
        "        # Store the count in the dictionary\n",
        "        room_image_counts[room_name] = image_count\n",
        "\n",
        "# Print the image counts for each room\n",
        "for room, count in room_image_counts.items():\n",
        "    print(f\"Room: {room}, Number of Images: {count}\")\n"
      ]
    },
    {
      "cell_type": "code",
      "execution_count": 10,
      "metadata": {
        "id": "JK9bEBlnMz3V"
      },
      "outputs": [],
      "source": [
        "\n",
        "\n",
        "\n",
        "# Define the path to the main directory containing the room subdirectories\n",
        "main_dir = 'masks'\n",
        "\n",
        "# Define a list of room names\n",
        "room_names = ['bathroom', 'bedroom', 'dining_room', 'kitchen', 'living_room' ]\n",
        "\n",
        "# Initialize an empty list to store the data\n",
        "data = []\n",
        "\n",
        "# Iterate through each room directory\n",
        "for room_name in room_names:\n",
        "    room_dir = os.path.join(main_dir, room_name)\n",
        "\n",
        "    # Iterate through all the image files in the room directory\n",
        "    for filename in os.listdir(room_dir):\n",
        "        if filename.endswith('.png'):\n",
        "            gt_path = os.path.join(room_dir, filename)\n",
        "            gt = np.array(Image.open(gt_path))\n",
        "\n",
        "            # Get the list of unique object IDs in the ground truth\n",
        "            unique_ids = np.unique(gt)\n",
        "            x = unique_ids - 1\n",
        "\n",
        "            # Map the IDs to object names\n",
        "            objects = [names[id + 1] for id in x[1:]]\n",
        "            class_names_str = \" \".join(objects)\n",
        "\n",
        "            # Append the data to the list with the room label\n",
        "            data.append([room_name, class_names_str])\n",
        "\n",
        "# Create a DataFrame from the data list\n",
        "df = pd.DataFrame(data, columns=['Room', 'Object Names'])\n",
        "\n",
        "# Save the DataFrame to a CSV file\n",
        "csv_filename = 'object_names_per_room.csv'\n",
        "df.to_csv(csv_filename, index=False)\n"
      ]
    }
  ],
  "metadata": {
    "colab": {
      "provenance": []
    },
    "kernelspec": {
      "display_name": "Python 3",
      "name": "python3"
    },
    "language_info": {
      "codemirror_mode": {
        "name": "ipython",
        "version": 3
      },
      "file_extension": ".py",
      "mimetype": "text/x-python",
      "name": "python",
      "nbconvert_exporter": "python",
      "pygments_lexer": "ipython3",
      "version": "3.9.12"
    }
  },
  "nbformat": 4,
  "nbformat_minor": 0
}
